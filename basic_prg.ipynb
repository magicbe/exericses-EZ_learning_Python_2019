{
 "cells": [
  {
   "cell_type": "markdown",
   "metadata": {},
   "source": [
    "# 基礎編程\n",
    "- 賦值、印出與註解\n",
    "- 變數類型\n",
    "- 資料結構\n",
    "- 流程控制\n",
    "- 迴圈\n",
    "- 函數\n",
    "\n",
    "## 賦值、印出與註解"
   ]
  },
  {
   "cell_type": "code",
   "execution_count": 4,
   "metadata": {},
   "outputs": [
    {
     "name": "stdout",
     "output_type": "stream",
     "text": [
      "Tony Kuo\n"
     ]
    }
   ],
   "source": [
    "# 單行註解\n",
    "'''\n",
    "多行的\n",
    "註解\n",
    "'''\n",
    "my_name = \"Tony Kuo\"\n",
    "print(my_name)"
   ]
  },
  {
   "cell_type": "markdown",
   "metadata": {},
   "source": [
    "## 變數類型\n",
    "- int\n",
    "- float\n",
    "- complex"
   ]
  },
  {
   "cell_type": "code",
   "execution_count": 6,
   "metadata": {},
   "outputs": [
    {
     "name": "stdout",
     "output_type": "stream",
     "text": [
      "<class 'int'>\n",
      "<class 'float'>\n",
      "<class 'complex'>\n"
     ]
    }
   ],
   "source": [
    "my_int = 87\n",
    "my_float = 8.7\n",
    "my_complex = 8 + 7j\n",
    "\n",
    "print(type(my_int))\n",
    "print(type(my_float))\n",
    "print(type(my_complex))"
   ]
  },
  {
   "cell_type": "markdown",
   "metadata": {},
   "source": [
    "### 運算符號\n",
    "運算符號 | 意義\n",
    ":-- | :--\n",
    "+ | 加法\n",
    "- | 減法\n",
    "* | 乘法\n",
    "/ | 除法\n",
    "** | 次方\n",
    "% | 回傳除法結果的餘數部分\n",
    "// | 回傳除法結果的整數部分"
   ]
  },
  {
   "cell_type": "code",
   "execution_count": 8,
   "metadata": {},
   "outputs": [
    {
     "name": "stdout",
     "output_type": "stream",
     "text": [
      "15\n",
      "1\n",
      "56\n",
      "1.1428571428571428\n",
      "64\n",
      "1\n",
      "43\n"
     ]
    }
   ],
   "source": [
    "print(8 + 7)\n",
    "print(8 - 7)\n",
    "print(8 * 7)\n",
    "print(8 / 7)\n",
    "print(8**2)\n",
    "print(87 % 2)\n",
    "print(87 // 2)"
   ]
  },
  {
   "cell_type": "markdown",
   "metadata": {},
   "source": [
    "### bool 與判斷符號\n",
    "\n",
    "判斷運算符號 | 作用\n",
    ":-- | :--\n",
    "== | 是否等於\n",
    "!= | 是否不等於\n",
    "> | 是否大於\n",
    "< | 是否小於\n",
    ">= | 是否大於等於\n",
    "<= | 是否小於等於\n",
    "in | 是否包含於\n",
    "not in | 是否不包含於\n",
    "and | 判斷兩側的條件\n",
    "or | 判斷兩側的條件是否至少有一個為 True\n",
    "not | 反轉布林的 True 或 False"
   ]
  },
  {
   "cell_type": "code",
   "execution_count": 12,
   "metadata": {},
   "outputs": [
    {
     "name": "stdout",
     "output_type": "stream",
     "text": [
      "True\n",
      "False\n",
      "False\n"
     ]
    }
   ],
   "source": [
    "print(True and True)\n",
    "print(True and False)\n",
    "print(False and False)"
   ]
  },
  {
   "cell_type": "code",
   "execution_count": 13,
   "metadata": {},
   "outputs": [
    {
     "name": "stdout",
     "output_type": "stream",
     "text": [
      "True\n",
      "True\n",
      "False\n"
     ]
    }
   ],
   "source": [
    "print(True or True)\n",
    "print(True or False)\n",
    "print(False or False)"
   ]
  },
  {
   "cell_type": "markdown",
   "metadata": {},
   "source": [
    "### 變數類型: str\n",
    "- float(): 轉換變數類型為 float\n",
    "- int(): 轉換變數類型為 int\n",
    "- complex(): 轉換變數類型為 complex\n",
    "- bool(): 轉換變數類型為 bool\n",
    "- str(): 轉換變數類型為 str"
   ]
  },
  {
   "cell_type": "code",
   "execution_count": 15,
   "metadata": {},
   "outputs": [
    {
     "data": {
      "text/plain": [
       "str"
      ]
     },
     "execution_count": 15,
     "metadata": {},
     "output_type": "execute_result"
    }
   ],
   "source": [
    "my_name = \"Tony Kuo\"\n",
    "type(my_name)"
   ]
  },
  {
   "cell_type": "code",
   "execution_count": 23,
   "metadata": {},
   "outputs": [
    {
     "name": "stdout",
     "output_type": "stream",
     "text": [
      "I'm loving it\n"
     ]
    }
   ],
   "source": [
    "mcd = \"I'm loving it\"\n",
    "print(mcd)"
   ]
  },
  {
   "cell_type": "markdown",
   "metadata": {},
   "source": [
    "### 轉換變數類型\n",
    "- float(): 轉換變數類型為 float\n",
    "- int(): 轉換變數類型為 int\n",
    "- ocmplex(): 轉換變數類型為 complex\n",
    "- bool(): 轉換變數類型為 bool\n",
    "- str(): 轉換變數類型為 str"
   ]
  },
  {
   "cell_type": "code",
   "execution_count": 33,
   "metadata": {},
   "outputs": [
    {
     "data": {
      "text/plain": [
       "87.0"
      ]
     },
     "execution_count": 33,
     "metadata": {},
     "output_type": "execute_result"
    }
   ],
   "source": [
    "float(\"87\")"
   ]
  },
  {
   "cell_type": "code",
   "execution_count": 34,
   "metadata": {},
   "outputs": [
    {
     "data": {
      "text/plain": [
       "1"
      ]
     },
     "execution_count": 34,
     "metadata": {},
     "output_type": "execute_result"
    }
   ],
   "source": [
    "int(True)"
   ]
  },
  {
   "cell_type": "code",
   "execution_count": 35,
   "metadata": {},
   "outputs": [
    {
     "data": {
      "text/plain": [
       "0"
      ]
     },
     "execution_count": 35,
     "metadata": {},
     "output_type": "execute_result"
    }
   ],
   "source": [
    "int(False)"
   ]
  },
  {
   "cell_type": "markdown",
   "metadata": {},
   "source": [
    "### 帶有格式的 print\n",
    "- %s: 文字\n",
    "- %f: 浮點數\n",
    "- %i: 整數"
   ]
  },
  {
   "cell_type": "code",
   "execution_count": 40,
   "metadata": {},
   "outputs": [
    {
     "name": "stdout",
     "output_type": "stream",
     "text": [
      "3.14159\n",
      "3.14\n",
      "3\n"
     ]
    }
   ],
   "source": [
    "pi = 3.14159\n",
    "print(\"%s\" % pi)\n",
    "print(\"%.2f\" % pi)\n",
    "print(\"%i\" % pi)"
   ]
  },
  {
   "cell_type": "markdown",
   "metadata": {},
   "source": [
    "### BMI 計算機\n",
    "- 用 input() 函數收集使用者輸入的身高與體重\n",
    "- 用 float() 函數將使用者輸入的身高與體重轉換成浮點數\n",
    "- 用帶有格式的 print() 將身高、體重與 BMI 印出"
   ]
  },
  {
   "cell_type": "code",
   "execution_count": 42,
   "metadata": {},
   "outputs": [
    {
     "name": "stdout",
     "output_type": "stream",
     "text": [
      "請輸入您的體重 (kg)：66\n"
     ]
    }
   ],
   "source": [
    "my_weight = input(\"請輸入您的體重 (kg)：\")"
   ]
  },
  {
   "cell_type": "code",
   "execution_count": 44,
   "metadata": {},
   "outputs": [
    {
     "name": "stdout",
     "output_type": "stream",
     "text": [
      "66\n",
      "<class 'str'>\n"
     ]
    }
   ],
   "source": [
    "print(my_weight)\n",
    "print(type(my_weight))"
   ]
  },
  {
   "cell_type": "code",
   "execution_count": 46,
   "metadata": {},
   "outputs": [
    {
     "name": "stdout",
     "output_type": "stream",
     "text": [
      "請輸入您的體重 (kg)：66\n",
      "請輸入您的身高 (cm)：172\n"
     ]
    }
   ],
   "source": [
    "# 在這裡寫出您的答案，印出類似下方的輸出\n",
    "my_weight = input(\"請輸入您的體重 (kg)：\")\n",
    "my_height = input(\"請輸入您的身高 (cm)：\")"
   ]
  },
  {
   "cell_type": "code",
   "execution_count": 49,
   "metadata": {},
   "outputs": [
    {
     "name": "stdout",
     "output_type": "stream",
     "text": [
      "我的身高是 172.0 公分，體重是 66.0 公斤，BMI 為 22.31。\n"
     ]
    }
   ],
   "source": [
    "my_weight = float(my_weight)\n",
    "my_height = float(my_height)\n",
    "my_bmi = my_weight / (my_height/100)**2\n",
    "print(\"我的身高是 %.1f 公分，體重是 %.1f 公斤，BMI 為 %.2f。\" % (my_height, my_weight, my_bmi))"
   ]
  },
  {
   "cell_type": "markdown",
   "metadata": {},
   "source": [
    "## 資料結構\n",
    "- 原生資料結構\n",
    "    - list\n",
    "    - tuple\n",
    "    - dict\n",
    "- 套件資料結構\n",
    "    - ndarray\n",
    "    - series\n",
    "    - data frame\n",
    "    - panel"
   ]
  },
  {
   "cell_type": "markdown",
   "metadata": {},
   "source": [
    "### list\n",
    "- 建立時使用 [] 中括號\n",
    "- 可以容納不同變數類型"
   ]
  },
  {
   "cell_type": "code",
   "execution_count": 50,
   "metadata": {},
   "outputs": [
    {
     "data": {
      "text/plain": [
       "list"
      ]
     },
     "execution_count": 50,
     "metadata": {},
     "output_type": "execute_result"
    }
   ],
   "source": [
    "# seasons\n",
    "seasons = [\"Spring\", \"Summer\", \"Autumn\", \"Winter\"]\n",
    "type(seasons)"
   ]
  },
  {
   "cell_type": "code",
   "execution_count": 51,
   "metadata": {},
   "outputs": [
    {
     "name": "stdout",
     "output_type": "stream",
     "text": [
      "Spring\n",
      "Autumn\n"
     ]
    }
   ],
   "source": [
    "# indexing\n",
    "print(seasons[0])\n",
    "print(seasons[2])"
   ]
  },
  {
   "cell_type": "code",
   "execution_count": 53,
   "metadata": {},
   "outputs": [
    {
     "name": "stdout",
     "output_type": "stream",
     "text": [
      "Winter\n",
      "['Spring', 'Summer']\n",
      "['Summer', 'Autumn', 'Winter']\n"
     ]
    }
   ],
   "source": [
    "# special indexing\n",
    "print(seasons[-1])\n",
    "print(seasons[:2])\n",
    "print(seasons[1:])"
   ]
  },
  {
   "cell_type": "code",
   "execution_count": 55,
   "metadata": {},
   "outputs": [
    {
     "name": "stdout",
     "output_type": "stream",
     "text": [
      "<class 'str'>\n",
      "<class 'int'>\n",
      "<class 'int'>\n",
      "<class 'bool'>\n"
     ]
    }
   ],
   "source": [
    "# 不同變數類型 chicago_bulls_best\n",
    "chicago_bulls_best = [\"1995-96\", 72, 10, True]\n",
    "print(type(chicago_bulls_best[0]))\n",
    "print(type(chicago_bulls_best[1]))\n",
    "print(type(chicago_bulls_best[2]))\n",
    "print(type(chicago_bulls_best[3]))"
   ]
  },
  {
   "cell_type": "markdown",
   "metadata": {},
   "source": [
    "### tuple\n",
    "- 建立時使用 () 小括號\n",
    "- 或者使用 tuple() 函數將 list 做轉換\n",
    "- 不能新增、刪除或者更新內容"
   ]
  },
  {
   "cell_type": "code",
   "execution_count": 56,
   "metadata": {},
   "outputs": [
    {
     "data": {
      "text/plain": [
       "tuple"
      ]
     },
     "execution_count": 56,
     "metadata": {},
     "output_type": "execute_result"
    }
   ],
   "source": [
    "seasons_tuple = (\"Spring\", \"Summer\", \"Autumn\")\n",
    "type(seasons_tuple)"
   ]
  },
  {
   "cell_type": "code",
   "execution_count": 58,
   "metadata": {},
   "outputs": [
    {
     "data": {
      "text/plain": [
       "tuple"
      ]
     },
     "execution_count": 58,
     "metadata": {},
     "output_type": "execute_result"
    }
   ],
   "source": [
    "seasons_lst = [\"Spring\", \"Summer\", \"Autumn\"]\n",
    "seasons_tuple = tuple(seasons_lst)\n",
    "type(seasons_tuple)"
   ]
  },
  {
   "cell_type": "code",
   "execution_count": 59,
   "metadata": {},
   "outputs": [
    {
     "name": "stdout",
     "output_type": "stream",
     "text": [
      "['Spring', 'Summer', 'Autumn', 'Winter']\n"
     ]
    }
   ],
   "source": [
    "seasons_lst.append(\"Winter\")\n",
    "print(seasons_lst)"
   ]
  },
  {
   "cell_type": "code",
   "execution_count": 60,
   "metadata": {},
   "outputs": [
    {
     "ename": "AttributeError",
     "evalue": "'tuple' object has no attribute 'append'",
     "output_type": "error",
     "traceback": [
      "\u001b[1;31m---------------------------------------------------------------------------\u001b[0m",
      "\u001b[1;31mAttributeError\u001b[0m                            Traceback (most recent call last)",
      "\u001b[1;32m<ipython-input-60-c44804e69350>\u001b[0m in \u001b[0;36m<module>\u001b[1;34m\u001b[0m\n\u001b[1;32m----> 1\u001b[1;33m \u001b[0mseasons_tuple\u001b[0m\u001b[1;33m.\u001b[0m\u001b[0mappend\u001b[0m\u001b[1;33m(\u001b[0m\u001b[1;34m\"Winter\"\u001b[0m\u001b[1;33m)\u001b[0m\u001b[1;33m\u001b[0m\u001b[1;33m\u001b[0m\u001b[0m\n\u001b[0m\u001b[0;32m      2\u001b[0m \u001b[0mprint\u001b[0m\u001b[1;33m(\u001b[0m\u001b[0mseasons_tuple\u001b[0m\u001b[1;33m)\u001b[0m\u001b[1;33m\u001b[0m\u001b[1;33m\u001b[0m\u001b[0m\n",
      "\u001b[1;31mAttributeError\u001b[0m: 'tuple' object has no attribute 'append'"
     ]
    }
   ],
   "source": [
    "seasons_tuple.append(\"Winter\") # tuplre 無法使用 append，會出現錯誤\n",
    "print(seasons_tuple)"
   ]
  },
  {
   "cell_type": "markdown",
   "metadata": {},
   "source": [
    "### dict\n",
    "- 使用鍵（Key）來選出值（Value）的資料結構\n",
    "- 建立時使用 {} 大括號"
   ]
  },
  {
   "cell_type": "code",
   "execution_count": 63,
   "metadata": {},
   "outputs": [
    {
     "data": {
      "text/plain": [
       "dict"
      ]
     },
     "execution_count": 63,
     "metadata": {},
     "output_type": "execute_result"
    }
   ],
   "source": [
    "chicago_bulls_dict = {\n",
    "    \"season\": \"1995-95\",\n",
    "    \"wins\": 72,\n",
    "    \"losses\": 10,\n",
    "    \"is_champion\": True\n",
    "}\n",
    "type(chicago_bulls_dict)"
   ]
  },
  {
   "cell_type": "code",
   "execution_count": 64,
   "metadata": {},
   "outputs": [
    {
     "name": "stdout",
     "output_type": "stream",
     "text": [
      "1995-95\n",
      "72\n",
      "10\n",
      "True\n"
     ]
    }
   ],
   "source": [
    "print(chicago_bulls_dict[\"season\"])\n",
    "print(chicago_bulls_dict[\"wins\"])\n",
    "print(chicago_bulls_dict[\"losses\"])\n",
    "print(chicago_bulls_dict[\"is_champion\"])"
   ]
  },
  {
   "cell_type": "markdown",
   "metadata": {},
   "source": [
    "### 選出 Chandler Bing （練習）\n",
    "- 建立一個 dict 儲存以下的資訊\n",
    "- 從建立好的 dict 中選出 Chandler Bing\n",
    "```python\n",
    "genre = \"SitCom\"\n",
    "seasons = 10\n",
    "episodes = 236\n",
    "characters = [\"Rachel Green\", \"Monica Geller\", \"Phoebe Buffay\", \"Joey Tribbiani\", \"Chandler Bing\", \"Ross Geller\"]\n",
    "```"
   ]
  },
  {
   "cell_type": "code",
   "execution_count": 1,
   "metadata": {},
   "outputs": [
    {
     "name": "stdout",
     "output_type": "stream",
     "text": [
      "['Rachel Green', 'Monica Geller', 'Phoebe Buffay', 'Joey Tribbiani', 'Chandler Bing', 'Ross Geller']\n"
     ]
    }
   ],
   "source": [
    "# 在這裡寫出您的答案，從您建立出的 dict 中選出 Chamdler Bing\n",
    "friends_dict = {\n",
    "    \"genre\": \"SitCom\",\n",
    "    \"seasons\": 10,\n",
    "    \"episodes\": 236,\n",
    "    \"characters\": [\"Rachel Green\", \"Monica Geller\", \"Phoebe Buffay\", \"Joey Tribbiani\", \"Chandler Bing\", \"Ross Geller\"]\n",
    "}\n",
    "# 先選出 characters\n",
    "print(friends_dict[\"characters\"])"
   ]
  },
  {
   "cell_type": "code",
   "execution_count": 2,
   "metadata": {},
   "outputs": [
    {
     "name": "stdout",
     "output_type": "stream",
     "text": [
      "Chandler Bing\n"
     ]
    }
   ],
   "source": [
    "# 再選出 Chandler Bing\n",
    "print(friends_dict[\"characters\"][4])"
   ]
  },
  {
   "cell_type": "markdown",
   "metadata": {},
   "source": [
    "## 流程控制\n",
    "- 依據不同條件，執行對應的程式分支\n",
    "- 像是：\n",
    "    - 天氣好出門運動，天氣差在家休息\n",
    "    - 對應不同 BMI 的數值，印出體重描述\n",
    "\n",
    "### 流程控制的結構\n",
    "- 兩個分支\n",
    "```python\n",
    "if 條件一:\n",
    "    # 分支一\n",
    "else:\n",
    "    # 分支二\n",
    "```\n",
    "- 三個（或以上）分支\n",
    "```python\n",
    "if 條件一:\n",
    "    # 分支一\n",
    "elif 條件二:\n",
    "    # 分支二\n",
    "elif 條件三:\n",
    "    # 分支三\n",
    "else:\n",
    "    # 分支四\n",
    "```"
   ]
  },
  {
   "cell_type": "markdown",
   "metadata": {},
   "source": [
    "### 流程控制： if-else\n",
    "- 晴天去戶外運動\n",
    "- 多雲或下雨則去電影院"
   ]
  },
  {
   "cell_type": "code",
   "execution_count": 12,
   "metadata": {},
   "outputs": [
    {
     "name": "stdout",
     "output_type": "stream",
     "text": [
      "天氣是晴天，去戶外運動\n"
     ]
    }
   ],
   "source": [
    "from random import choice\n",
    "\n",
    "weathers = [\"晴天\", \"多雲\", \"下雨\"]\n",
    "today = choice(weathers)\n",
    "\n",
    "if today == \"晴天\":\n",
    "    print(\"天氣是%s，去戶外運動\" % today)\n",
    "else:\n",
    "    print(\"天氣是%s，去電影院\" % today)"
   ]
  },
  {
   "cell_type": "markdown",
   "metadata": {},
   "source": [
    "### 流程控制： if-elif-else\n",
    "- 晴天去戶外運動\n",
    "- 多雲去健身房\n",
    "- 下雨去電影院"
   ]
  },
  {
   "cell_type": "code",
   "execution_count": 13,
   "metadata": {},
   "outputs": [
    {
     "name": "stdout",
     "output_type": "stream",
     "text": [
      "天氣是晴天，去戶外運動\n"
     ]
    }
   ],
   "source": [
    "weathers = [\"晴天\", \"多雲\", \"下雨\"]\n",
    "today = choice(weathers)\n",
    "\n",
    "if today == \"晴天\":\n",
    "    print(\"天氣是%s，去戶外運動\" % today)\n",
    "elif today == \"多雲\":\n",
    "    print(\"天氣是%s，去健身房\" % today)\n",
    "else:\n",
    "    print(\"天氣是%s，去電影院\" % today)"
   ]
  },
  {
   "cell_type": "markdown",
   "metadata": {},
   "source": [
    "### BMI 計算機（練習）\n",
    "- 用 input() 函數收集使用者輸入的身高與體重\n",
    "- 用 float() 函數將使用者輸入的身高與體重轉換成浮點數\n",
    "- 依照 BMI 數值給予過輕、正常與過重這三個分類\n",
    "- 用帶有格式的 print() 與 BMI 與體重分類印出"
   ]
  },
  {
   "cell_type": "code",
   "execution_count": 3,
   "metadata": {},
   "outputs": [
    {
     "name": "stdout",
     "output_type": "stream",
     "text": [
      "請輸入您的體重 (kg)：44\n",
      "請輸入您的身高 (cm)：172\n",
      "您的 BMI 為 14.87，體重分類為過輕\n"
     ]
    }
   ],
   "source": [
    "# BMI < 18.5 為過輕\n",
    "# 18.5 <= BMI <= 25 為正常\n",
    "# BMI > 25 為過重\n",
    "# 在這裡寫出您的答案\n",
    "my_weight = input(\"請輸入您的體重 (kg)：\")\n",
    "my_height = input(\"請輸入您的身高 (cm)：\")\n",
    "my_weight = float(my_weight)\n",
    "my_height = float(my_height)\n",
    "my_bmi = my_weight / (my_height/100)**2\n",
    "\n",
    "if my_bmi < 18.5:\n",
    "    print(\"您的 BMI 為 %.2f，體重分類為%s\" % (my_bmi, \"過輕\"))\n",
    "elif my_bmi > 25:\n",
    "    print(\"您的 BMI 為 %.2f，體重分類為%s\" % (my_bmi, \"過重\"))\n",
    "else:\n",
    "    print(\"您的 BMI 為 %.2f，體重分類為%s\" % (my_bmi, \"正常\"))"
   ]
  },
  {
   "cell_type": "markdown",
   "metadata": {},
   "source": [
    "## 迴圈\n",
    "- for 迴圈\n",
    "- while 迴圈"
   ]
  },
  {
   "cell_type": "code",
   "execution_count": 5,
   "metadata": {},
   "outputs": [
    {
     "name": "stdout",
     "output_type": "stream",
     "text": [
      "Sunday\n",
      "Monday\n",
      "Tuesday\n",
      "Wednesday\n",
      "Thursday\n",
      "Friday\n",
      "Staurday\n"
     ]
    }
   ],
   "source": [
    "weekdays = [\"Sunday\", \"Monday\", \"Tuesday\", \"Wednesday\", \"Thursday\", \"Friday\", \"Staurday\"]\n",
    "\n",
    "print(weekdays[0])\n",
    "print(weekdays[1])\n",
    "print(weekdays[2])\n",
    "print(weekdays[3])\n",
    "print(weekdays[4])\n",
    "print(weekdays[5])\n",
    "print(weekdays[6])"
   ]
  },
  {
   "cell_type": "markdown",
   "metadata": {},
   "source": [
    "### for 迴圈的結構\n",
    "```python\n",
    "for iterator in sequence:\n",
    "    # 在每次迭代時做什麼事\n",
    "```\n",
    "\n",
    "- 宣告迴圈的種類\n",
    "- 宣告一個 iterator\n",
    "- 宣告一個迴圈要運作的序列\n",
    "- 在縮排中宣告每一次迭代要做什麼事"
   ]
  },
  {
   "cell_type": "code",
   "execution_count": 7,
   "metadata": {},
   "outputs": [
    {
     "name": "stdout",
     "output_type": "stream",
     "text": [
      "Sunday\n",
      "Monday\n",
      "Tuesday\n",
      "Wednesday\n",
      "Thursday\n",
      "Friday\n",
      "Staurday\n"
     ]
    }
   ],
   "source": [
    "# iterator 為文字\n",
    "for weekday in weekdays:\n",
    "    print(weekday)"
   ]
  },
  {
   "cell_type": "code",
   "execution_count": 10,
   "metadata": {},
   "outputs": [
    {
     "name": "stdout",
     "output_type": "stream",
     "text": [
      "Sunday\n",
      "Monday\n",
      "Tuesday\n",
      "Wednesday\n",
      "Thursday\n",
      "Friday\n",
      "Staurday\n"
     ]
    }
   ],
   "source": [
    "# iterater 為索引值\n",
    "for i in range(7):\n",
    "    print(weekdays[i])"
   ]
  },
  {
   "cell_type": "markdown",
   "metadata": {},
   "source": [
    "### 因數分解（練習）\n",
    "- 把所有可以將 87 整數的因數找出來"
   ]
  },
  {
   "cell_type": "code",
   "execution_count": 14,
   "metadata": {},
   "outputs": [
    {
     "name": "stdout",
     "output_type": "stream",
     "text": [
      "[1, 3, 29, 87]\n"
     ]
    }
   ],
   "source": [
    "# 在這裡寫出您的答案\n",
    "ans = []\n",
    "for i in range(1, 88):\n",
    "    if 87 % i == 0:\n",
    "        ans.append(i)\n",
    "print(ans)"
   ]
  },
  {
   "cell_type": "markdown",
   "metadata": {},
   "source": [
    "### while 迴圈的結構\n",
    "```python\n",
    "while 條件判斷:\n",
    "    # 在每次迭代時做什麼事\n",
    "```\n",
    "- 宣告迴圈的種類\n",
    "- 宣告一個條件判斷\n",
    "- 在縮排中宣告當條件判斷結果為 True 要做什麼事"
   ]
  },
  {
   "cell_type": "code",
   "execution_count": 16,
   "metadata": {},
   "outputs": [
    {
     "name": "stdout",
     "output_type": "stream",
     "text": [
      "Sunday\n",
      "Monday\n",
      "Tuesday\n",
      "Wednesday\n",
      "Thursday\n",
      "Friday\n",
      "Staurday\n"
     ]
    }
   ],
   "source": [
    "weekdays = [\"Sunday\", \"Monday\", \"Tuesday\", \"Wednesday\", \"Thursday\", \"Friday\", \"Staurday\"]\n",
    "i = 0\n",
    "while i < 7:\n",
    "    print(weekdays[i])\n",
    "    i += 1"
   ]
  },
  {
   "cell_type": "markdown",
   "metadata": {},
   "source": [
    "### while 迴圈：投擲硬幣遊戲（練習）\n",
    "- 投擲一枚硬幣，總計有三次正面才能停止\n",
    "- 輸出每次投擲的紀錄\n",
    "- 輸出總共投了幾次"
   ]
  },
  {
   "cell_type": "code",
   "execution_count": 20,
   "metadata": {},
   "outputs": [
    {
     "name": "stdout",
     "output_type": "stream",
     "text": [
      "['Head', 'Tail', 'Head', 'Head']\n",
      "總共投擲了 4 次\n"
     ]
    }
   ],
   "source": [
    "# 在這裡寫出您的答案\n",
    "from random import choice\n",
    "\n",
    "coin = [\"Head\", \"Tail\"]\n",
    "toss_results = []\n",
    "while toss_results.count(\"Head\") < 3:\n",
    "    toss_results.append(choice(coin))\n",
    "print(toss_results)\n",
    "print(\"總共投擲了 %i 次\" % len(toss_results))"
   ]
  },
  {
   "cell_type": "markdown",
   "metadata": {},
   "source": [
    "## 自訂函數\n",
    "\n",
    "### 自訂函數：結構\n",
    "```python\n",
    "def function_name(輸入一, 輸入二, ..., 參數一, 參數二, ...):\n",
    "    '''\n",
    "    Docstrings, 撰寫函數的說明文件\n",
    "    '''\n",
    "    \n",
    "    # 將輸入與參數整合為輸出\n",
    "    \n",
    "    return 輸出\n",
    "```"
   ]
  },
  {
   "cell_type": "code",
   "execution_count": 28,
   "metadata": {},
   "outputs": [
    {
     "name": "stdout",
     "output_type": "stream",
     "text": [
      "28.274333882308138\n",
      "18.84955592153876\n"
     ]
    }
   ],
   "source": [
    "import math\n",
    "\n",
    "# 自訂函數：圓形計算機\n",
    "def circle_cal(r, is_area):\n",
    "    '''\n",
    "    輸入半徑可以回傳圓面積或周長。\n",
    "    當 is_area 為 True，回傳圓面積；若為 False，回傳圓周長\n",
    "    '''\n",
    "    if (is_area == True):\n",
    "        return math.pi * r**2\n",
    "    else:\n",
    "        return 2 * math.pi * r\n",
    "\n",
    "#help(circle_cal)\n",
    "radius = 3\n",
    "print(circle_cal(radius, is_area = True))\n",
    "print(circle_cal(radius, is_area = False))"
   ]
  },
  {
   "cell_type": "markdown",
   "metadata": {},
   "source": [
    "### 自訂函數：預設參數\n",
    "- 為參數設定一個預設值"
   ]
  },
  {
   "cell_type": "code",
   "execution_count": 29,
   "metadata": {},
   "outputs": [
    {
     "ename": "TypeError",
     "evalue": "circle_cal() missing 1 required positional argument: 'is_area'",
     "output_type": "error",
     "traceback": [
      "\u001b[0;31m---------------------------------------------------------------------------\u001b[0m",
      "\u001b[0;31mTypeError\u001b[0m                                 Traceback (most recent call last)",
      "\u001b[0;32m<ipython-input-29-8cac56a1cb80>\u001b[0m in \u001b[0;36m<module>\u001b[0;34m()\u001b[0m\n\u001b[1;32m      1\u001b[0m \u001b[0;31m# 呼叫 circle_car 時沒有輸入參數\u001b[0m\u001b[0;34m\u001b[0m\u001b[0;34m\u001b[0m\u001b[0;34m\u001b[0m\u001b[0m\n\u001b[1;32m      2\u001b[0m \u001b[0mradius\u001b[0m \u001b[0;34m=\u001b[0m \u001b[0;36m5\u001b[0m\u001b[0;34m\u001b[0m\u001b[0;34m\u001b[0m\u001b[0m\n\u001b[0;32m----> 3\u001b[0;31m \u001b[0mprint\u001b[0m\u001b[0;34m(\u001b[0m\u001b[0mcircle_cal\u001b[0m\u001b[0;34m(\u001b[0m\u001b[0mradius\u001b[0m\u001b[0;34m)\u001b[0m\u001b[0;34m)\u001b[0m\u001b[0;34m\u001b[0m\u001b[0;34m\u001b[0m\u001b[0m\n\u001b[0m",
      "\u001b[0;31mTypeError\u001b[0m: circle_cal() missing 1 required positional argument: 'is_area'"
     ]
    }
   ],
   "source": [
    "# 呼叫 circle_car 時沒有輸入參數\n",
    "radius = 5\n",
    "print(circle_cal(radius))"
   ]
  },
  {
   "cell_type": "code",
   "execution_count": 31,
   "metadata": {},
   "outputs": [
    {
     "name": "stdout",
     "output_type": "stream",
     "text": [
      "78.53981633974483\n"
     ]
    }
   ],
   "source": [
    "# 自訂函數：圓形計算機\n",
    "def circle_cal(r, is_area = True):\n",
    "    '''\n",
    "    輸入半徑可以回傳圓面積或周長。\n",
    "    當 is_area 為 True，回傳圓面積；若為 False，回傳圓周長\n",
    "    如果使用者沒有輸入參數 is_area，則預設回傳面積。\n",
    "    '''\n",
    "    if (is_area == True):\n",
    "        return math.pi * r**2\n",
    "    else:\n",
    "        return 2 * math.pi * r\n",
    "\n",
    "radius = 5\n",
    "print(circle_cal(radius))"
   ]
  },
  {
   "cell_type": "markdown",
   "metadata": {},
   "source": [
    "### 自訂函數：多重輸出\n",
    "- 將多個輸出儲存在 tuple 中回傳"
   ]
  },
  {
   "cell_type": "code",
   "execution_count": 35,
   "metadata": {},
   "outputs": [
    {
     "name": "stdout",
     "output_type": "stream",
     "text": [
      "28.274333882308138\n",
      "18.84955592153876\n"
     ]
    }
   ],
   "source": [
    "# 自訂函數：圓形計算機\n",
    "def circle_cal(r):\n",
    "    area = math.pi * r**2\n",
    "    circum = 2 * math.pi * r\n",
    "    return area, circum\n",
    "\n",
    "radius = 3\n",
    "#print(circle_cal(radius))\n",
    "circle_area, circle_circum = circle_cal(radius)\n",
    "print(circle_area)\n",
    "print(circle_circum)"
   ]
  },
  {
   "cell_type": "markdown",
   "metadata": {},
   "source": [
    "### 自訂函數：is_prime() 函數（練習）\n",
    "- 輸入一個正整數，如果為質數回傳 True，否則回傳 False\n",
    "```python\n",
    "is_prime(87)\n",
    "# False\n",
    "is_prime(89)\n",
    "# True\n",
    "```"
   ]
  },
  {
   "cell_type": "code",
   "execution_count": 38,
   "metadata": {},
   "outputs": [
    {
     "name": "stdout",
     "output_type": "stream",
     "text": [
      "False\n",
      "True\n"
     ]
    }
   ],
   "source": [
    "# 在這裡寫出您的答案\n",
    "def is_prime(x):\n",
    "    '''\n",
    "    判斷輸入的正整數是否為質數，是則回傳 True，否則回傳 False\n",
    "    '''\n",
    "    factorials = []\n",
    "    for i in range(1, x + 1):\n",
    "        if x % i == 0:\n",
    "            factorials.append(i)\n",
    "    if len(factorials) == 2:\n",
    "        return True\n",
    "    else:\n",
    "        return False\n",
    "print(is_prime(87))\n",
    "print(is_prime(89))   "
   ]
  },
  {
   "cell_type": "markdown",
   "metadata": {},
   "source": [
    "### 自訂函數：lambda 函數\n",
    "- 又稱匿名函數\n",
    "- 不需要 def、return 的敘述\n",
    "```python\n",
    "lambda 輸入: 回傳物件\n",
    "```"
   ]
  },
  {
   "cell_type": "code",
   "execution_count": 39,
   "metadata": {},
   "outputs": [
    {
     "name": "stdout",
     "output_type": "stream",
     "text": [
      "9\n"
     ]
    }
   ],
   "source": [
    "def squared(x):\n",
    "    return x**2\n",
    "print(squared(3))"
   ]
  },
  {
   "cell_type": "code",
   "execution_count": 40,
   "metadata": {},
   "outputs": [
    {
     "name": "stdout",
     "output_type": "stream",
     "text": [
      "9\n"
     ]
    }
   ],
   "source": [
    "squared = lambda x:x**2\n",
    "print(squared(3))"
   ]
  },
  {
   "cell_type": "markdown",
   "metadata": {},
   "source": [
    "### 自訂函數：lambda 函數\n",
    "- 常與內建的兩個函數一起使用：\n",
    "    - filter()\n",
    "    - map()"
   ]
  },
  {
   "cell_type": "code",
   "execution_count": 47,
   "metadata": {},
   "outputs": [
    {
     "data": {
      "text/plain": [
       "[2, 4, 6, 8, 10]"
      ]
     },
     "execution_count": 47,
     "metadata": {},
     "output_type": "execute_result"
    }
   ],
   "source": [
    "list(filter(lambda x : x % 2 == 0, range(1, 11)))"
   ]
  },
  {
   "cell_type": "code",
   "execution_count": 49,
   "metadata": {},
   "outputs": [
    {
     "data": {
      "text/plain": [
       "[1, 4, 9, 16, 25, 36, 49, 64, 81, 100]"
      ]
     },
     "execution_count": 49,
     "metadata": {},
     "output_type": "execute_result"
    }
   ],
   "source": [
    "list(map(lambda x : x**2, range(1, 11)))"
   ]
  },
  {
   "cell_type": "markdown",
   "metadata": {},
   "source": [
    "### 自訂函數：count_primes() 函數（練習）\n",
    "- 使用者輸入兩個正整數，函數就會回傳介於兩個正整數之間的質數個數\n",
    "```python\n",
    "count_primes(3, 7)\n",
    "# 3\n",
    "count_primes(3, 11)\n",
    "# 4\n",
    "```"
   ]
  },
  {
   "cell_type": "code",
   "execution_count": 50,
   "metadata": {},
   "outputs": [
    {
     "name": "stdout",
     "output_type": "stream",
     "text": [
      "3\n",
      "4\n"
     ]
    }
   ],
   "source": [
    "# 在這裡寫出您的答案\n",
    "def is_prime(x):\n",
    "    '''\n",
    "    判斷輸入的正整數是否為質數，是則回傳 True，否則回傳 False\n",
    "    '''\n",
    "    factorials = []\n",
    "    for i in range(1, x + 1):\n",
    "        if x % i == 0:\n",
    "            factorials.append(i)\n",
    "    if len(factorials) == 2:\n",
    "        return True\n",
    "    else:\n",
    "        return False\n",
    "    \n",
    "def count_primes(x, y):\n",
    "    '''\n",
    "    判斷介於輸入 x 與 y 之間的質數個數\n",
    "    '''\n",
    "    is_prime_lst = list(map(is_prime, range(x, y + 1)))\n",
    "    primes_cnt = sum(is_prime_lst)\n",
    "    return primes_cnt\n",
    "\n",
    "print(count_primes(3, 7))\n",
    "print(count_primes(3, 11))"
   ]
  }
 ],
 "metadata": {
  "kernelspec": {
   "display_name": "Python 3",
   "language": "python",
   "name": "python3"
  },
  "language_info": {
   "codemirror_mode": {
    "name": "ipython",
    "version": 3
   },
   "file_extension": ".py",
   "mimetype": "text/x-python",
   "name": "python",
   "nbconvert_exporter": "python",
   "pygments_lexer": "ipython3",
   "version": "3.6.8"
  }
 },
 "nbformat": 4,
 "nbformat_minor": 2
}
