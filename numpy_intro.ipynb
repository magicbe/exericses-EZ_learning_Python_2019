{
 "cells": [
  {
   "cell_type": "markdown",
   "metadata": {},
   "source": [
    "# Numpy\n",
    "- 將中長跑距離由公里換算為英里\n",
    "- 建立 ndarray 的方法\n",
    "- ndarray 的特性\n",
    "- 選擇 ndarray 的元素\n",
    "- 常用的屬性\n",
    "- 常用的方法\n",
    "- ndarray 與基礎線性代數"
   ]
  },
  {
   "cell_type": "markdown",
   "metadata": {},
   "source": [
    "## 將中長跑距離由公里換算為英哩\n",
    "- 想把這幾個距離從公里換算成英里\n",
    "```python\n",
    "km_lst = [1.6, 3, 5, 10, 21, 42.195]\n",
    "km_to_mile = 0.62137\n",
    "```"
   ]
  },
  {
   "cell_type": "markdown",
   "metadata": {},
   "source": [
    "### 使用 for 迴圈"
   ]
  },
  {
   "cell_type": "code",
   "execution_count": 1,
   "metadata": {},
   "outputs": [
    {
     "name": "stdout",
     "output_type": "stream",
     "text": [
      "[0.994192, 1.86411, 3.1068499999999997, 6.213699999999999, 13.04877, 26.21870715]\n"
     ]
    }
   ],
   "source": [
    "km_lst = [1.6, 3, 5, 10, 21, 42.195]\n",
    "km_to_mile = 0.62137\n",
    "mile_lst = []\n",
    "for km in km_lst:\n",
    "    mile_lst.append(km * km_to_mile)\n",
    "print(mile_lst)"
   ]
  },
  {
   "cell_type": "markdown",
   "metadata": {},
   "source": [
    "### 使用 map 與 lambda 函數"
   ]
  },
  {
   "cell_type": "code",
   "execution_count": 2,
   "metadata": {},
   "outputs": [
    {
     "name": "stdout",
     "output_type": "stream",
     "text": [
      "[0.994192, 1.86411, 3.1068499999999997, 6.213699999999999, 13.04877, 26.21870715]\n"
     ]
    }
   ],
   "source": [
    "mile_lst = map(lambda x: x * km_to_mile, km_lst)\n",
    "print(list(mile_lst))"
   ]
  },
  {
   "cell_type": "markdown",
   "metadata": {},
   "source": [
    "### 載入 Numpy"
   ]
  },
  {
   "cell_type": "code",
   "execution_count": 4,
   "metadata": {},
   "outputs": [
    {
     "name": "stdout",
     "output_type": "stream",
     "text": [
      "[ 0.994192    1.86411     3.10685     6.2137     13.04877    26.21870715]\n"
     ]
    }
   ],
   "source": [
    "import numpy as np\n",
    "km_lst = [1.6, 3, 5, 10, 21, 42.195]\n",
    "km_to_mile = 0.62137\n",
    "km_arr = np.array(km_lst)\n",
    "# print(type(km_arr))\n",
    "print(km_arr * km_to_mile)"
   ]
  },
  {
   "cell_type": "markdown",
   "metadata": {},
   "source": [
    "### 載入 NumPy 中的一個方法"
   ]
  },
  {
   "cell_type": "code",
   "execution_count": 10,
   "metadata": {},
   "outputs": [
    {
     "name": "stdout",
     "output_type": "stream",
     "text": [
      "<class 'numpy.ndarray'>\n"
     ]
    }
   ],
   "source": [
    "from numpy import array\n",
    "\n",
    "km_arr = array(km_lst)\n",
    "print(type(km_arr))"
   ]
  },
  {
   "cell_type": "markdown",
   "metadata": {},
   "source": [
    "### 計算五個人的 BMI（練習）\n",
    "```python\n",
    "heights = [173, 168, 171, 189, 179]\n",
    "weights = [65.4, 59.2, 63.6, 88.4, 68.7]\n",
    "```"
   ]
  },
  {
   "cell_type": "code",
   "execution_count": 13,
   "metadata": {},
   "outputs": [
    {
     "name": "stdout",
     "output_type": "stream",
     "text": [
      "[21.85171573 20.97505669 21.75028214 24.7473475  21.44127836]\n"
     ]
    }
   ],
   "source": [
    "# 在這裡寫出您的答案\n",
    "import numpy as np\n",
    "\n",
    "heights = [173, 168, 171, 189, 179]\n",
    "weights = [65.4, 59.2, 63.6, 88.4, 68.7]\n",
    "heights_arr = np.array(heights)\n",
    "weights_arr = np.array(weights)\n",
    "bmi_arr = weights_arr / (heights_arr / 100)**2\n",
    "print(bmi_arr)"
   ]
  },
  {
   "cell_type": "markdown",
   "metadata": {},
   "source": [
    "### 建立 ndarray 的方法\n",
    "- np.array()\n",
    "- np.arange()\n",
    "- np.linspace()\n",
    "- np.ones() 與 np.zeros()\n",
    "- np.random.randint()"
   ]
  },
  {
   "cell_type": "code",
   "execution_count": null,
   "metadata": {},
   "outputs": [],
   "source": [
    "import numpy as np"
   ]
  },
  {
   "cell_type": "code",
   "execution_count": 14,
   "metadata": {},
   "outputs": [
    {
     "name": "stdout",
     "output_type": "stream",
     "text": [
      "[ 1  2  3  4  5  6  7  8  9 10]\n"
     ]
    }
   ],
   "source": [
    "# np.arange()\n",
    "arr = np.arange(1, 11)\n",
    "print(arr)"
   ]
  },
  {
   "cell_type": "code",
   "execution_count": 18,
   "metadata": {},
   "outputs": [
    {
     "name": "stdout",
     "output_type": "stream",
     "text": [
      "[ 1.   1.5  2.   2.5  3.   3.5  4.   4.5  5.   5.5  6.   6.5  7.   7.5\n",
      "  8.   8.5  9.   9.5 10. ]\n"
     ]
    }
   ],
   "source": [
    "# np.linspace()\n",
    "arr = np.linspace(1, 10, 19)\n",
    "print(arr)"
   ]
  },
  {
   "cell_type": "code",
   "execution_count": 20,
   "metadata": {},
   "outputs": [
    {
     "name": "stdout",
     "output_type": "stream",
     "text": [
      "[1. 1. 1. 1. 1. 1. 1. 1. 1. 1.]\n"
     ]
    }
   ],
   "source": [
    "# np.ones()\n",
    "arr = np.ones(10)\n",
    "print(arr)"
   ]
  },
  {
   "cell_type": "code",
   "execution_count": 22,
   "metadata": {},
   "outputs": [
    {
     "name": "stdout",
     "output_type": "stream",
     "text": [
      "[0. 0. 0. 0. 0. 0. 0. 0. 0. 0.]\n"
     ]
    }
   ],
   "source": [
    "# np.zeros()\n",
    "arr = np.zeros(10)\n",
    "print(arr)"
   ]
  },
  {
   "cell_type": "code",
   "execution_count": 27,
   "metadata": {},
   "outputs": [
    {
     "name": "stdout",
     "output_type": "stream",
     "text": [
      "['1' '0' '1']\n"
     ]
    }
   ],
   "source": [
    "# dtype 參數\n",
    "arr = np.zeros(10, dtype = 'int')\n",
    "arr = np.ones(10, dtype = 'complex')\n",
    "arr = np.array([1, 0, 1], dtype = 'bool')\n",
    "arr = np.array([1, 0, 1], dtype = 'str')\n",
    "print(arr)"
   ]
  },
  {
   "cell_type": "code",
   "execution_count": 31,
   "metadata": {},
   "outputs": [
    {
     "name": "stdout",
     "output_type": "stream",
     "text": [
      "[ 3  2 10  6  8  6  9  1  8  1]\n"
     ]
    }
   ],
   "source": [
    "# np.random.randint()\n",
    "arr = np.random.randint(1, 11, size = 10)\n",
    "print(arr)"
   ]
  },
  {
   "cell_type": "markdown",
   "metadata": {},
   "source": [
    "### ndarray 的特性\n",
    "- 索引值\n",
    "- 判斷條件"
   ]
  },
  {
   "cell_type": "code",
   "execution_count": 35,
   "metadata": {},
   "outputs": [
    {
     "name": "stdout",
     "output_type": "stream",
     "text": [
      "<class 'int'>\n",
      "<class 'bool'>\n",
      "<class 'str'>\n"
     ]
    }
   ],
   "source": [
    "my_lst = [87, True, 'Tony']\n",
    "for i in my_lst:\n",
    "    print(type(i))"
   ]
  },
  {
   "cell_type": "code",
   "execution_count": 36,
   "metadata": {},
   "outputs": [
    {
     "name": "stdout",
     "output_type": "stream",
     "text": [
      "<class 'numpy.str_'>\n",
      "<class 'numpy.str_'>\n",
      "<class 'numpy.str_'>\n"
     ]
    }
   ],
   "source": [
    "arr = np.array(my_lst)\n",
    "for i in arr:\n",
    "    print(type(i))"
   ]
  },
  {
   "cell_type": "markdown",
   "metadata": {},
   "source": [
    "### 選擇 ndarray 的元素\n",
    "- 索引值\n",
    "- 判斷條件"
   ]
  },
  {
   "cell_type": "code",
   "execution_count": 38,
   "metadata": {},
   "outputs": [
    {
     "name": "stdout",
     "output_type": "stream",
     "text": [
      "[11 12 13 14 15 16 17 18 19 20]\n",
      "11\n",
      "12\n",
      "20\n",
      "[11 13 15 17 19]\n",
      "[11 12 20]\n"
     ]
    }
   ],
   "source": [
    "arr = np.arange(11, 21)\n",
    "print(arr)\n",
    "print(arr[0])\n",
    "print(arr[1])\n",
    "print(arr[-1])\n",
    "print(arr[::2])\n",
    "print(arr[[0, 1, -1]])"
   ]
  },
  {
   "cell_type": "code",
   "execution_count": 41,
   "metadata": {},
   "outputs": [
    {
     "name": "stdout",
     "output_type": "stream",
     "text": [
      "[16 17 18 19 20]\n"
     ]
    }
   ],
   "source": [
    "print(arr[arr > 15])"
   ]
  },
  {
   "cell_type": "markdown",
   "metadata": {},
   "source": [
    "### 常用的屬性\n",
    "- .dtype\n",
    "- .shape\n",
    "- .size\n",
    "- .ndim\n",
    "- .T"
   ]
  },
  {
   "cell_type": "code",
   "execution_count": 42,
   "metadata": {},
   "outputs": [
    {
     "name": "stdout",
     "output_type": "stream",
     "text": [
      "int64\n",
      "(2, 3)\n",
      "6\n",
      "2\n",
      "[[1 4]\n",
      " [2 5]\n",
      " [3 6]]\n",
      "(3, 2)\n"
     ]
    }
   ],
   "source": [
    "arr = np.array([\n",
    "    [1, 2, 3],\n",
    "    [4, 5, 6]\n",
    "])\n",
    "print(arr.dtype)\n",
    "print(arr.shape)\n",
    "print(arr.size)\n",
    "print(arr.ndim)\n",
    "print(arr.T)\n",
    "print(arr.T.shape)"
   ]
  },
  {
   "cell_type": "markdown",
   "metadata": {},
   "source": [
    "### 常用的方法\n",
    "- .reshape()\n",
    "- .ravel()\n",
    "- .prod()\n",
    "- .sum()\n",
    "- .mean()\n",
    "- np.where()\n",
    "- np.unique()\n",
    "- np.concatenate()\n",
    "- np.sort()"
   ]
  },
  {
   "cell_type": "code",
   "execution_count": 62,
   "metadata": {},
   "outputs": [
    {
     "name": "stdout",
     "output_type": "stream",
     "text": [
      "[ 1  2  3  4  5  6  7  8  9 10]\n",
      "[[ 1  2  3  4  5]\n",
      " [ 6  7  8  9 10]]\n",
      "[ 1  2  3  4  5  6  7  8  9 10]\n"
     ]
    }
   ],
   "source": [
    "# .reshape()「重塑形狀」 與 .ravel()「攤平成一維」\n",
    "import numpy as np\n",
    "\n",
    "arr = np.arange(1, 11)\n",
    "print(arr)\n",
    "arr = arr.reshape(2, 5)\n",
    "print(arr)\n",
    "arr = arr.ravel()\n",
    "print(arr)"
   ]
  },
  {
   "cell_type": "code",
   "execution_count": 59,
   "metadata": {},
   "outputs": [
    {
     "name": "stdout",
     "output_type": "stream",
     "text": [
      "3628800\n",
      "[ 6 14 24 36 50]\n",
      "[  120 30240]\n",
      "55\n",
      "[ 7  9 11 13 15]\n",
      "[15 40]\n",
      "5.5\n",
      "[3.5 4.5 5.5 6.5 7.5]\n",
      "[3. 8.]\n"
     ]
    }
   ],
   "source": [
    "# .prod()「乘積」 與 .sum()「總和」 與 .mean()「平均值」\n",
    "arr = arr.reshape(2, 5)\n",
    "print(arr.prod())\n",
    "print(arr.prod(axis = 0))\n",
    "print(arr.prod(axis = 1))\n",
    "print(arr.sum())\n",
    "print(arr.sum(axis = 0))\n",
    "print(arr.sum(axis = 1))\n",
    "print(arr.mean())\n",
    "print(arr.mean(axis = 0))\n",
    "print(arr.mean(axis = 1))"
   ]
  },
  {
   "cell_type": "code",
   "execution_count": 60,
   "metadata": {},
   "outputs": [
    {
     "name": "stdout",
     "output_type": "stream",
     "text": [
      "[ 1  2  3  4  5  6  7  8  9 10]\n",
      "[ 1  2  3  4  5 99 99 99 99 99]\n"
     ]
    }
   ],
   "source": [
    "# np.where()「條件取代」\n",
    "arr = np.arange(1, 11)\n",
    "print(arr)\n",
    "arr = np.where(arr > 5, 99, arr)\n",
    "print(arr)"
   ]
  },
  {
   "cell_type": "code",
   "execution_count": 61,
   "metadata": {},
   "outputs": [
    {
     "name": "stdout",
     "output_type": "stream",
     "text": [
      "[[ 1  2  3  4  5]\n",
      " [ 6  7  8  9 10]\n",
      " [11 12 13 14 15]\n",
      " [16 17 18 19 20]]\n",
      "[[ 1  2  3  4  5 11 12 13 14 15]\n",
      " [ 6  7  8  9 10 16 17 18 19 20]]\n"
     ]
    }
   ],
   "source": [
    "# np.concatenate()「水平或垂直合併」\n",
    "arr_1 = np.arange(1, 11).reshape(2, 5)\n",
    "arr_2 = np.arange(11, 21).reshape(2, 5)\n",
    "\n",
    "vertical = np.concatenate([arr_1, arr_2], axis = 0)\n",
    "print(vertical)\n",
    "horizontal = np.concatenate([arr_1, arr_2], axis = 1)\n",
    "print(horizontal)"
   ]
  },
  {
   "cell_type": "code",
   "execution_count": 75,
   "metadata": {},
   "outputs": [
    {
     "name": "stdout",
     "output_type": "stream",
     "text": [
      "[ 6  6 10  6  7]\n",
      "[ 6  6  6  7 10]\n"
     ]
    }
   ],
   "source": [
    "# np.sort()\n",
    "arr = np.random.randint(1, 11, size = 5)\n",
    "print(arr)\n",
    "print(np.sort(arr))"
   ]
  },
  {
   "cell_type": "markdown",
   "metadata": {},
   "source": [
    "### ndarray 與基礎線性代數\n",
    "- 建立向量\n",
    "- 建立矩陣\n",
    "- np.transpose() 或 ndarray.T\n",
    "- np.dot() 或 ndarray.dot()\n",
    "- np.linalg.inv()"
   ]
  },
  {
   "cell_type": "code",
   "execution_count": 1,
   "metadata": {},
   "outputs": [
    {
     "name": "stdout",
     "output_type": "stream",
     "text": [
      "[[ 4]\n",
      " [-4]\n",
      " [ 3]]\n",
      "[[4]\n",
      " [2]\n",
      " [4]]\n"
     ]
    }
   ],
   "source": [
    "import numpy as np\n",
    "\n",
    "u = np.array([4, -4, 3]).reshape(-1, 1)\n",
    "v = np.array([4, 2, 4]).reshape(-1, 1)\n",
    "print(u)\n",
    "print(v)"
   ]
  },
  {
   "cell_type": "code",
   "execution_count": 2,
   "metadata": {},
   "outputs": [
    {
     "name": "stdout",
     "output_type": "stream",
     "text": [
      "[[1 2]\n",
      " [3 4]]\n"
     ]
    }
   ],
   "source": [
    "A = np.arange(1, 5).reshape(2, 2)\n",
    "print(A)"
   ]
  },
  {
   "cell_type": "code",
   "execution_count": 4,
   "metadata": {},
   "outputs": [
    {
     "name": "stdout",
     "output_type": "stream",
     "text": [
      "(1, 3)\n",
      "[[ 4 -4  3]]\n"
     ]
    }
   ],
   "source": [
    "u_transposed = u.T\n",
    "print(u_transposed.shape)\n",
    "u_transposed = np.transpose(u)\n",
    "print(u_transposed)"
   ]
  },
  {
   "cell_type": "code",
   "execution_count": 5,
   "metadata": {},
   "outputs": [
    {
     "data": {
      "text/plain": [
       "array([[20]])"
      ]
     },
     "execution_count": 5,
     "metadata": {},
     "output_type": "execute_result"
    }
   ],
   "source": [
    "np.dot(u_transposed, v)"
   ]
  },
  {
   "cell_type": "code",
   "execution_count": 6,
   "metadata": {},
   "outputs": [
    {
     "data": {
      "text/plain": [
       "array([[20]])"
      ]
     },
     "execution_count": 6,
     "metadata": {},
     "output_type": "execute_result"
    }
   ],
   "source": [
    "u_transposed.dot(v)"
   ]
  },
  {
   "cell_type": "code",
   "execution_count": 7,
   "metadata": {},
   "outputs": [
    {
     "name": "stdout",
     "output_type": "stream",
     "text": [
      "[[-2.   1. ]\n",
      " [ 1.5 -0.5]]\n"
     ]
    }
   ],
   "source": [
    "A_inv = np.linalg.inv(A)\n",
    "print(A_inv)"
   ]
  },
  {
   "cell_type": "code",
   "execution_count": 8,
   "metadata": {},
   "outputs": [
    {
     "data": {
      "text/plain": [
       "array([[1.00000000e+00, 1.11022302e-16],\n",
       "       [0.00000000e+00, 1.00000000e+00]])"
      ]
     },
     "execution_count": 8,
     "metadata": {},
     "output_type": "execute_result"
    }
   ],
   "source": [
    "np.dot(A, A_inv)"
   ]
  }
 ],
 "metadata": {
  "kernelspec": {
   "display_name": "Python 3",
   "language": "python",
   "name": "python3"
  },
  "language_info": {
   "codemirror_mode": {
    "name": "ipython",
    "version": 3
   },
   "file_extension": ".py",
   "mimetype": "text/x-python",
   "name": "python",
   "nbconvert_exporter": "python",
   "pygments_lexer": "ipython3",
   "version": "3.6.8"
  }
 },
 "nbformat": 4,
 "nbformat_minor": 2
}
